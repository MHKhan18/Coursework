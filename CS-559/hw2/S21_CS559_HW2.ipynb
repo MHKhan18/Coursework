{
 "cells": [
  {
   "cell_type": "markdown",
   "id": "incorrect-ocean",
   "metadata": {},
   "source": [
    "# CS559: Homework #2\n",
    "Assignment #2: Due on 3/12/2021 by 11:59 PM\n",
    "\n",
    "- Change the file name as YourName_S21_CS559_HW2\n",
    "- Submit the assignment in `ipynb` and `html` formats. \n",
    "    - You can export the notebook in HTML. \n",
    "    - Do not compress your files. Please submit files individually. \n",
    "- All work must be your own and must not be shared with other classmates. \n",
    "    - Collaboration with classmates or getting help by any people is not acceptable. \n",
    "    - For impletementation problems, do not copy algorithms from internet. "
   ]
  },
  {
   "cell_type": "markdown",
   "id": "timely-cassette",
   "metadata": {},
   "source": [
    "## Problem 1 - Clustering Using KMeans [35 pts]\n",
    "\n",
    "The tasks in this problem are:\n",
    "- impletemenation of KMeans\n",
    "- confirmation of pre-determined K value\n",
    "\n",
    "Here, we have a given data set `HW2_Q1_0.csv` containing coordinates of x and y. \n",
    "\n",
    "1-a. Load the data and add feature name as X and Y for the first and second columns, respectively. (2 pts)"
   ]
  },
  {
   "cell_type": "code",
   "execution_count": null,
   "id": "automated-colombia",
   "metadata": {},
   "outputs": [],
   "source": [
    "import pandas as pd\n"
   ]
  },
  {
   "cell_type": "markdown",
   "id": "tracked-transcription",
   "metadata": {},
   "source": [
    "1-b. Using `KMeans` from `sklearn.cluster`, determine the appropriate $K$ value for `HW2_Q1_0.csv` and report it. Explain why your pre-determined $K$ value is appropriate. The function `plot_inertia` is provided to you. (4 pts)"
   ]
  },
  {
   "cell_type": "code",
   "execution_count": null,
   "id": "liquid-genetics",
   "metadata": {},
   "outputs": [],
   "source": [
    "from sklearn.cluster import KMeans\n",
    "kmeans = KMeans()\n",
    "\n",
    "def plot_inertia(km, X, n_cluster_range):\n",
    "    inertias = []\n",
    "    for i in n_cluster_range:\n",
    "        km.set_params(n_clusters=i)\n",
    "        km.fit(X)\n",
    "        inertias.append(km.inertia_)\n",
    "    plt.plot(n_cluster_range, inertias, marker='o')\n",
    "    plt.title('Elbow method')\n",
    "    plt.xlabel('Number of clusters')\n",
    "    plt.ylabel('Inertia')\n",
    "    plt.show()\n",
    "    \n",
    "    tabular_result = pd.DataFrame(inertias, \n",
    "                                  index = [\"n = {}\".format(i) for i in range(1, len(inertias)+1)], \n",
    "                                  columns=['Inertia'])\n",
    "    \n",
    "    return tabular_result"
   ]
  },
  {
   "cell_type": "code",
   "execution_count": null,
   "id": "distinct-nashville",
   "metadata": {},
   "outputs": [],
   "source": []
  },
  {
   "cell_type": "markdown",
   "id": "alone-hormone",
   "metadata": {},
   "source": [
    "1-c. Make a scatter plot of y vs. x. Do you think your pre-determined $K$ value is acceptable. Explain why. If you do not think your pre-determined $K$ value is not correct, explain what a new pre-determined $K$ value must be. (4 pts) "
   ]
  },
  {
   "cell_type": "code",
   "execution_count": null,
   "id": "after-spare",
   "metadata": {},
   "outputs": [],
   "source": []
  },
  {
   "cell_type": "markdown",
   "id": "fifteen-darkness",
   "metadata": {},
   "source": [
    "1-d. Impletement `MY_KMean` that does the KMeans clustering. When you do the implementation, you may use linear algebra built-in functions from `Numpy`. Do not use `KMeans` directly. (10 pts)"
   ]
  },
  {
   "cell_type": "markdown",
   "id": "mature-moldova",
   "metadata": {},
   "source": []
  },
  {
   "cell_type": "markdown",
   "id": "auburn-coalition",
   "metadata": {},
   "source": [
    "1-e. Using `MY_KMeans` with the pre-determined $K$ value from 1-c, do the clustering.  After the clustering, find the centroid of each cluster id and report. (4 pts)"
   ]
  },
  {
   "cell_type": "code",
   "execution_count": null,
   "id": "brave-mumbai",
   "metadata": {},
   "outputs": [],
   "source": []
  },
  {
   "cell_type": "markdown",
   "id": "stone-dutch",
   "metadata": {},
   "source": [
    "1-f. Add the cluter label to the dataframe and call it `Class`. Make a plot and indicate the centroids. (2 pts)"
   ]
  },
  {
   "cell_type": "code",
   "execution_count": null,
   "id": "published-narrow",
   "metadata": {},
   "outputs": [],
   "source": []
  },
  {
   "cell_type": "markdown",
   "id": "traditional-facing",
   "metadata": {},
   "source": [
    "1-g. Load a given data set `HW2_Q1_1.csv`. Here you have true cluter ids. (4 pts)\n",
    "- Make a box plot by the ids and make a discrete statistical analysis. Here, you also have to make a box plot with your result from 1-f and compare. \n",
    "- Is your pre-determined $K$ value the same as the true $K$ value? Explain. \n",
    "- If not, do the clustering again using `MY_KMeans` with the true $K$ value. "
   ]
  },
  {
   "cell_type": "code",
   "execution_count": null,
   "id": "exciting-brunswick",
   "metadata": {},
   "outputs": [],
   "source": []
  },
  {
   "cell_type": "markdown",
   "id": "mediterranean-silicon",
   "metadata": {},
   "source": [
    "1-h. Evalaute your result. (5 pts)"
   ]
  },
  {
   "cell_type": "code",
   "execution_count": null,
   "id": "intermediate-astrology",
   "metadata": {},
   "outputs": [],
   "source": []
  },
  {
   "cell_type": "markdown",
   "id": "temporal-gauge",
   "metadata": {},
   "source": [
    "## Problem 2 - Clustering Using Hierarchal Clustering [10 pts]\n",
    "\n",
    "In this problem, you will make a dendrogram using Hierarchal clustering method and compare with the result you obtained from Problem #1. \n",
    "\n",
    "2-a. Do the hierarchal clustering with various distances and linkages. [8 pts]"
   ]
  },
  {
   "cell_type": "code",
   "execution_count": null,
   "id": "fifty-factor",
   "metadata": {},
   "outputs": [],
   "source": [
    "from sklearn.cluster import AgglomerativeClustering\n",
    "from scipy.cluster.hierarchy import dendrogram, linkage"
   ]
  },
  {
   "cell_type": "markdown",
   "id": "private-forty",
   "metadata": {},
   "source": [
    "2-b. Which distance and linkage provide the best and worst result? You can make numerical and/or graphical comparisons. For example, you can count the number of cluster IDs that are correctly clustered from the true labels and find its ratio. [2 pts]"
   ]
  },
  {
   "cell_type": "code",
   "execution_count": null,
   "id": "serial-injection",
   "metadata": {},
   "outputs": [],
   "source": []
  },
  {
   "cell_type": "markdown",
   "id": "seven-slovak",
   "metadata": {},
   "source": [
    "## Problem 3 - Principal Component Analysis [15 pts]\n",
    "\n",
    "3-a. Run the following codes. "
   ]
  },
  {
   "cell_type": "code",
   "execution_count": 1,
   "id": "selected-postcard",
   "metadata": {},
   "outputs": [],
   "source": [
    "import numpy as np\n",
    "\n",
    "np.random.seed(2342)\n",
    "mu_vec1 = np.array([0,0,0])\n",
    "cov_mat1 = np.array([[1,0,0],[0,1,0],[0,0,1]])\n",
    "class1_sample = np.random.multivariate_normal(mu_vec1, cov_mat1, 30).T\n",
    "assert class1_sample.shape == (3,30), \"The matrix has not the dimensions 3x30\"\n",
    "\n",
    "mu_vec2 = np.array([1,1,1])\n",
    "cov_mat2 = np.array([[1,0,0],[0,1,0],[0,0,1]])\n",
    "class2_sample = np.random.multivariate_normal(mu_vec2, cov_mat2, 30).T\n",
    "assert class2_sample.shape == (3,30), \"The matrix has not the dimensions 3x30\""
   ]
  },
  {
   "cell_type": "code",
   "execution_count": 2,
   "id": "convinced-vegetable",
   "metadata": {},
   "outputs": [
    {
     "data": {
      "image/png": "[encoded data removed]",
      "text/plain": [
       "<Figure size 576x576 with 1 Axes>"
      ]
     },
     "metadata": {
      "needs_background": "light"
     },
     "output_type": "display_data"
    }
   ],
   "source": [
    "from matplotlib import pyplot as plt\n",
    "from mpl_toolkits.mplot3d import Axes3D\n",
    "from mpl_toolkits.mplot3d import proj3d\n",
    "\n",
    "fig = plt.figure(figsize=(8,8))\n",
    "ax = fig.add_subplot(111, projection='3d')\n",
    "plt.rcParams['legend.fontsize'] = 10   \n",
    "ax.plot(class1_sample[0,:], class1_sample[1,:], class1_sample[2,:], 'o', markersize=8, color='blue', alpha=0.5, label='class1')\n",
    "ax.plot(class2_sample[0,:], class2_sample[1,:], class2_sample[2,:], '^', markersize=8, alpha=0.5, color='red', label='class2')\n",
    "\n",
    "plt.title('Samples for class 1 and class 2')\n",
    "ax.legend(loc='upper right')\n",
    "\n",
    "plt.show()"
   ]
  },
  {
   "cell_type": "markdown",
   "id": "quarterly-hammer",
   "metadata": {},
   "source": [
    "3-b. PCA Implementation. Here, the descriiption of each step and part of codes. You have to fill out the rest process. [10 pts]"
   ]
  },
  {
   "cell_type": "markdown",
   "id": "acknowledged-basics",
   "metadata": {},
   "source": [
    "    1. Take the dataset w/o classes. "
   ]
  },
  {
   "cell_type": "code",
   "execution_count": null,
   "id": "sound-above",
   "metadata": {},
   "outputs": [],
   "source": [
    "all_samples = \n",
    "assert all_samples.shape == (3,60), \"The matrix has not the dimensions 3x60\""
   ]
  },
  {
   "cell_type": "markdown",
   "id": "cooked-theory",
   "metadata": {},
   "source": [
    "    2. Compute the d-dimentional mean vector."
   ]
  },
  {
   "cell_type": "code",
   "execution_count": null,
   "id": "arranged-combining",
   "metadata": {},
   "outputs": [],
   "source": [
    "mean_x = \n",
    "mean_y = \n",
    "mean_z = \n",
    "\n",
    "mean_vector = np.array([[mean_x],[mean_y],[mean_z]])\n",
    "\n",
    "print('Mean Vector:\\n', mean_vector)"
   ]
  },
  {
   "cell_type": "markdown",
   "id": "premium-precipitation",
   "metadata": {},
   "source": [
    "    3. Compute the scatter matrix as following. \n",
    "$$\\textbf{S}=\\sum_{k=1}^N (\\textbf{x}_k-\\bar{\\textbf{x}})(\\textbf{x}_k-\\bar{\\textbf{x}})^T$$ \n",
    "    where $\\bar{\\textbf{x}}$ is the mean vector."
   ]
  },
  {
   "cell_type": "code",
   "execution_count": null,
   "id": "urban-elder",
   "metadata": {},
   "outputs": [],
   "source": [
    "scatter_matrix = np.zeros((3,3))\n",
    "for i in range(all_samples.shape[1]):\n",
    "    \n",
    "print('Scatter Matrix:\\n', scatter_matrix)"
   ]
  },
  {
   "cell_type": "markdown",
   "id": "decimal-monitoring",
   "metadata": {},
   "source": [
    "    Then compute the covariance matrix using `np.cov()` function."
   ]
  },
  {
   "cell_type": "code",
   "execution_count": null,
   "id": "classified-specification",
   "metadata": {},
   "outputs": [],
   "source": [
    "cov_mat = np.cov()\n",
    "print('Covariance Matrix:\\n', cov_mat)"
   ]
  },
  {
   "cell_type": "markdown",
   "id": "devoted-infection",
   "metadata": {},
   "source": [
    "    4. Compute eigenvectors and corresponding eigenvalues using np.linalg.eig(). "
   ]
  },
  {
   "cell_type": "code",
   "execution_count": null,
   "id": "surgical-fight",
   "metadata": {},
   "outputs": [],
   "source": [
    "# eigenvectors and eigenvalues for the from the scatter matrix\n",
    "eig_val_sc, eig_vec_sc = \n",
    "\n",
    "# eigenvectors and eigenvalues for the from the covariance matrix\n",
    "eig_val_cov, eig_vec_cov = \n",
    "\n",
    "for i in range(len(eig_val_sc)):\n",
    "    eigvec_sc = eig_vec_sc[:,i].reshape(1,3).T\n",
    "    eigvec_cov = eig_vec_cov[:,i].reshape(1,3).T\n",
    "    assert eigvec_sc.all() == eigvec_cov.all(), 'Eigenvectors are not identical'\n",
    "\n",
    "    print('Eigenvector {}: \\n{}'.format(i+1, eigvec_sc))\n",
    "    print('Eigenvalue {} from scatter matrix: {}'.format(i+1, eig_val_sc[i]))\n",
    "    print('Eigenvalue {} from covariance matrix: {}'.format(i+1, eig_val_cov[i]))\n",
    "    print('Scaling factor: ', eig_val_sc[i]/eig_val_cov[i])\n",
    "    print(60 * '-')"
   ]
  },
  {
   "cell_type": "markdown",
   "id": "demonstrated-precipitation",
   "metadata": {},
   "source": [
    "    5. Check the eigenvector and eigenvalue calculation. This code is provided as well as the visualization of eigenvectors. "
   ]
  },
  {
   "cell_type": "code",
   "execution_count": null,
   "id": "wired-values",
   "metadata": {},
   "outputs": [],
   "source": [
    "for i in range(len(eig_val_sc)):\n",
    "    eigv = eig_vec_sc[:,i].reshape(1,3).T\n",
    "    np.testing.assert_array_almost_equal(scatter_matrix.dot(eigv), eig_val_sc[i] * eigv,\n",
    "                                         decimal=6, err_msg='', verbose=True)"
   ]
  },
  {
   "cell_type": "code",
   "execution_count": null,
   "id": "soviet-bailey",
   "metadata": {},
   "outputs": [],
   "source": [
    "from matplotlib.patches import FancyArrowPatch\n",
    "\n",
    "\n",
    "class Arrow3D(FancyArrowPatch):\n",
    "    def __init__(self, xs, ys, zs, *args, **kwargs):\n",
    "        FancyArrowPatch.__init__(self, (0,0), (0,0), *args, **kwargs)\n",
    "        self._verts3d = xs, ys, zs\n",
    "\n",
    "    def draw(self, renderer):\n",
    "        xs3d, ys3d, zs3d = self._verts3d\n",
    "        xs, ys, zs = proj3d.proj_transform(xs3d, ys3d, zs3d, renderer.M)\n",
    "        self.set_positions((xs[0],ys[0]),(xs[1],ys[1]))\n",
    "        FancyArrowPatch.draw(self, renderer)\n",
    "\n",
    "fig = plt.figure(figsize=(7,7))\n",
    "ax = fig.add_subplot(111, projection='3d')\n",
    "\n",
    "ax.plot(all_samples[0,:], all_samples[1,:], all_samples[2,:], 'o', markersize=8, color='green', alpha=0.2)\n",
    "ax.plot([mean_x], [mean_y], [mean_z], 'o', markersize=10, color='red', alpha=0.5)\n",
    "for v in eig_vec_sc.T:\n",
    "    a = Arrow3D([mean_x, v[0]], [mean_y, v[1]], [mean_z, v[2]], mutation_scale=20, lw=3, arrowstyle=\"-|>\", color=\"r\")\n",
    "    ax.add_artist(a)\n",
    "ax.set_xlabel('x_values')\n",
    "ax.set_ylabel('y_values')\n",
    "ax.set_zlabel('z_values')\n",
    "\n",
    "plt.title('Eigenvectors')\n",
    "\n",
    "plt.show()"
   ]
  },
  {
   "cell_type": "markdown",
   "id": "sharp-fisher",
   "metadata": {},
   "source": [
    "    6. Sort the eigenvectors by descreasing eigenvalues. \n",
    "\n",
    "    The idea is that since the eigenvectors will form the axes of new feature subspace, we want to drop for eigenvectors with the lowest eigenvalues that bear the least information about the distribution of the data. "
   ]
  },
  {
   "cell_type": "code",
   "execution_count": null,
   "id": "independent-killer",
   "metadata": {},
   "outputs": [],
   "source": [
    "# Make a list of (eigenvalue, eigenvector) tuples\n",
    "eig_pairs = [(np.abs(eig_val_sc[i]), eig_vec_sc[:,i]) for i in range(len(eig_val_sc))]\n",
    "\n",
    "# Sort the (eigenvalue, eigenvector) tuples from high to low\n",
    "\n",
    "\n",
    "# Visually confirm that the list is correctly sorted by decreasing eigenvalues\n",
    "for i in eig_pairs:\n",
    "    print(i[0])"
   ]
  },
  {
   "cell_type": "markdown",
   "id": "mechanical-brass",
   "metadata": {},
   "source": [
    "   7. Choose *k* eigenvectors with the largest eigenvalues.\n",
    "\n",
    "    We are going to reduce a 3-D feature space to a 2-D feature subspace. To do so, we combine the two eigenvectors with the highest eigenvalues to construct our $d\\times k$-D eigenvector matrix $\\bf{W}$."
   ]
  },
  {
   "cell_type": "code",
   "execution_count": null,
   "id": "impressed-sweet",
   "metadata": {},
   "outputs": [],
   "source": [
    "matrix_w = \n",
    "print('Matrix W:\\n', matrix_w)"
   ]
  },
  {
   "cell_type": "markdown",
   "id": "bigger-buddy",
   "metadata": {},
   "source": [
    "    8. Transform the samples onto the new subspace. \n",
    "\n",
    "    The new subspace equation is \n",
    "\n",
    "$${\\bf y}={\\bf W}^T\\times {\\bf x}$$"
   ]
  },
  {
   "cell_type": "code",
   "execution_count": null,
   "id": "transparent-mirror",
   "metadata": {},
   "outputs": [],
   "source": [
    "transformed = \n",
    "assert transformed.shape == (2,60), \"The matrix is not 2x60 dimensional.\""
   ]
  },
  {
   "cell_type": "code",
   "execution_count": 18,
   "id": "tribal-great",
   "metadata": {},
   "outputs": [],
   "source": [
    "plt.plot(transformed[0,0:30], transformed[1,0:30], 'o', markersize=7, color='blue', alpha=0.5, label='class1')\n",
    "plt.plot(transformed[0,30:60], transformed[1,30:60], '^', markersize=7, color='red', alpha=0.5, label='class2')\n",
    "plt.xlim([-5,5])\n",
    "plt.ylim([-5,5])\n",
    "plt.xlabel('x_values')\n",
    "plt.ylabel('y_values')\n",
    "plt.legend()\n",
    "plt.title('Transformed samples with class labels')\n",
    "\n",
    "plt.show()"
   ]
  },
  {
   "cell_type": "markdown",
   "id": "judicial-intent",
   "metadata": {},
   "source": [
    "3-c. Using `PCA` from sklearn, make a visualization comparison with the result in 3-b and evaluation your impletemented PCA. [5 pts]"
   ]
  },
  {
   "cell_type": "code",
   "execution_count": null,
   "id": "flying-stone",
   "metadata": {},
   "outputs": [],
   "source": [
    "from sklearn.decomposition import PCA"
   ]
  }
 ],
 "metadata": {
  "kernelspec": {
   "display_name": "Python 3",
   "language": "python",
   "name": "python3"
  },
  "language_info": {
   "codemirror_mode": {
    "name": "ipython",
    "version": 3
   },
   "file_extension": ".py",
   "mimetype": "text/x-python",
   "name": "python",
   "nbconvert_exporter": "python",
   "pygments_lexer": "ipython3",
   "version": "3.8.3"
  }
 },
 "nbformat": 4,
 "nbformat_minor": 5
}
